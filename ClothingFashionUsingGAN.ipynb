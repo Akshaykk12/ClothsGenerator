{
 "cells": [
  {
   "cell_type": "code",
   "execution_count": 38,
   "id": "8bb73ac9",
   "metadata": {},
   "outputs": [],
   "source": [
    "import numpy as np\n",
    "import matplotlib.pyplot as plt\n",
    "import tensorflow as tf\n",
    "\n",
    "from tensorflow.keras.optimizers import Adam\n",
    "\n",
    "from tensorflow.keras import Sequential, Model\n",
    "from tensorflow.keras.layers import Dense, BatchNormalization, LeakyReLU, Input, Reshape, Dropout, Flatten\n",
    "from tensorflow.keras import datasets"
   ]
  },
  {
   "cell_type": "code",
   "execution_count": 21,
   "id": "764a577a",
   "metadata": {},
   "outputs": [],
   "source": [
    "def build_discriminator(img_shape=(28,28,1), summary=True):\n",
    "    model= Sequential()\n",
    "    model.add(Input(shape = img_shape))\n",
    "    model.add(Flatten())\n",
    "    model.add(Dense(512))\n",
    "    model.add(LeakyReLU(0.3))\n",
    "    model.add(Dense(256))\n",
    "    model.add(LeakyReLU(0.3))\n",
    "    model.add(Dense(1, activation=\"sigmoid\"))\n",
    "    \n",
    "    if summary:\n",
    "        model.summary()\n",
    "    return model"
   ]
  },
  {
   "cell_type": "code",
   "execution_count": 22,
   "id": "fd70cda7",
   "metadata": {},
   "outputs": [],
   "source": [
    "def build_generator(z_dim=(100), output_shape=(28, 28, 1), summary=True):\n",
    "    model= Sequential()\n",
    "    model.add(Input(shape = z_dim))\n",
    "    model.add(Dense(256))\n",
    "    model.add(LeakyReLU(0.3))\n",
    "    model.add(BatchNormalization(momentum= 0.8))\n",
    "    model.add(Dense(512))\n",
    "    model.add(LeakyReLU(0.3))\n",
    "    model.add(BatchNormalization(momentum= 0.8))\n",
    "    model.add(Dense(1024))\n",
    "    model.add(LeakyReLU(0.3))\n",
    "    model.add(BatchNormalization(momentum= 0.8))\n",
    "    model.add(Dense(np.prod(output_shape), activation= \"tanh\"))\n",
    "    model.add(Reshape(output_shape))\n",
    "    \n",
    "    if summary:\n",
    "        model.summary()\n",
    "    return model"
   ]
  },
  {
   "cell_type": "code",
   "execution_count": 23,
   "id": "ec16fc61",
   "metadata": {},
   "outputs": [
    {
     "name": "stdout",
     "output_type": "stream",
     "text": [
      "Model: \"sequential_6\"\n",
      "_________________________________________________________________\n",
      " Layer (type)                Output Shape              Param #   \n",
      "=================================================================\n",
      " dense_22 (Dense)            (None, 256)               25856     \n",
      "                                                                 \n",
      " leaky_re_lu_16 (LeakyReLU)  (None, 256)               0         \n",
      "                                                                 \n",
      " batch_normalization_12 (Bat  (None, 256)              1024      \n",
      " chNormalization)                                                \n",
      "                                                                 \n",
      " dense_23 (Dense)            (None, 512)               131584    \n",
      "                                                                 \n",
      " leaky_re_lu_17 (LeakyReLU)  (None, 512)               0         \n",
      "                                                                 \n",
      " batch_normalization_13 (Bat  (None, 512)              2048      \n",
      " chNormalization)                                                \n",
      "                                                                 \n",
      " dense_24 (Dense)            (None, 1024)              525312    \n",
      "                                                                 \n",
      " leaky_re_lu_18 (LeakyReLU)  (None, 1024)              0         \n",
      "                                                                 \n",
      " batch_normalization_14 (Bat  (None, 1024)             4096      \n",
      " chNormalization)                                                \n",
      "                                                                 \n",
      " dense_25 (Dense)            (None, 784)               803600    \n",
      "                                                                 \n",
      " reshape_4 (Reshape)         (None, 28, 28, 1)         0         \n",
      "                                                                 \n",
      "=================================================================\n",
      "Total params: 1,493,520\n",
      "Trainable params: 1,489,936\n",
      "Non-trainable params: 3,584\n",
      "_________________________________________________________________\n"
     ]
    },
    {
     "data": {
      "image/png": "[encoded data removed]",
      "text/plain": [
       "<Figure size 640x480 with 1 Axes>"
      ]
     },
     "metadata": {},
     "output_type": "display_data"
    }
   ],
   "source": [
    "generator= build_generator()\n",
    "\n",
    "noise = tf.random.normal([1,100])\n",
    "generated_image = generator(noise, training= False)\n",
    "\n",
    "plt.imshow(generated_image[0, :, :, 0], cmap='gray')\n",
    "plt.show()"
   ]
  },
  {
   "cell_type": "code",
   "execution_count": 30,
   "id": "acf5ce6f",
   "metadata": {},
   "outputs": [],
   "source": [
    "def train(generator=None, discriminator= None, gal_model= None, epochs=1000, batch_size=128, z_dim=100, sample_interval=200):\n",
    "    (X_train, _), (_, _) = datasets.fashion_mnist.load_data()\n",
    "    X_train = X_train /127.5 - 1\n",
    "\n",
    "    real_y= np.ones((batch_size))\n",
    "    fake_y= np.zeros((batch_size))\n",
    "\n",
    "    for i in range(epochs):\n",
    "        id = np.random.randint(0, X_train.shape[0], batch_size)\n",
    "        real_imgs= X_train[id]\n",
    "\n",
    "        noise= np.random.normal(0, 1, (batch_size, z_dim))\n",
    "        fake_imgs = generator.predict(noise)\n",
    "\n",
    "        disc_loss_real = discriminator.train_on_batch(real_imgs, real_y)\n",
    "        disc_loss_fake = discriminator.train_on_batch(real_imgs, fake_y)\n",
    "\n",
    "        discriminator_loss = 0.5 * np.add(disc_loss_real, disc_loss_fake)\n",
    "        noise= np.random.normal(0,1,(batch_size, z_dim))\n",
    "        gen_loss = gan_model.train_on_batch(noise, real_y)\n",
    "\n",
    "        print (\"%d [Discriminator loss: %f, acc.: %.2f%%] [Generator loss: %f]\" % (epochs, discriminator_loss[0], 100*discriminator_loss[1], gen_loss))\n",
    "        if epochs % sample_interval == 0:\n",
    "            sample_images(epochs,generator)\n"
   ]
  },
  {
   "cell_type": "code",
   "execution_count": 31,
   "id": "4bc6c012",
   "metadata": {},
   "outputs": [
    {
     "name": "stdout",
     "output_type": "stream",
     "text": [
      "Model: \"sequential_9\"\n",
      "_________________________________________________________________\n",
      " Layer (type)                Output Shape              Param #   \n",
      "=================================================================\n",
      " flatten_3 (Flatten)         (None, 784)               0         \n",
      "                                                                 \n",
      " dense_33 (Dense)            (None, 512)               401920    \n",
      "                                                                 \n",
      " leaky_re_lu_24 (LeakyReLU)  (None, 512)               0         \n",
      "                                                                 \n",
      " dense_34 (Dense)            (None, 256)               131328    \n",
      "                                                                 \n",
      " leaky_re_lu_25 (LeakyReLU)  (None, 256)               0         \n",
      "                                                                 \n",
      " dense_35 (Dense)            (None, 1)                 257       \n",
      "                                                                 \n",
      "=================================================================\n",
      "Total params: 533,505\n",
      "Trainable params: 533,505\n",
      "Non-trainable params: 0\n",
      "_________________________________________________________________\n"
     ]
    }
   ],
   "source": [
    "discriminator = build_discriminator()\n",
    "discriminator.compile(loss='binary_crossentropy',optimizer=Adam(0.0002, 0.5),metrics=['accuracy'])\n"
   ]
  },
  {
   "cell_type": "code",
   "execution_count": 32,
   "id": "9abe6e0b",
   "metadata": {},
   "outputs": [
    {
     "name": "stdout",
     "output_type": "stream",
     "text": [
      "Model: \"sequential_10\"\n",
      "_________________________________________________________________\n",
      " Layer (type)                Output Shape              Param #   \n",
      "=================================================================\n",
      " dense_36 (Dense)            (None, 256)               25856     \n",
      "                                                                 \n",
      " leaky_re_lu_26 (LeakyReLU)  (None, 256)               0         \n",
      "                                                                 \n",
      " batch_normalization_18 (Bat  (None, 256)              1024      \n",
      " chNormalization)                                                \n",
      "                                                                 \n",
      " dense_37 (Dense)            (None, 512)               131584    \n",
      "                                                                 \n",
      " leaky_re_lu_27 (LeakyReLU)  (None, 512)               0         \n",
      "                                                                 \n",
      " batch_normalization_19 (Bat  (None, 512)              2048      \n",
      " chNormalization)                                                \n",
      "                                                                 \n",
      " dense_38 (Dense)            (None, 1024)              525312    \n",
      "                                                                 \n",
      " leaky_re_lu_28 (LeakyReLU)  (None, 1024)              0         \n",
      "                                                                 \n",
      " batch_normalization_20 (Bat  (None, 1024)             4096      \n",
      " chNormalization)                                                \n",
      "                                                                 \n",
      " dense_39 (Dense)            (None, 784)               803600    \n",
      "                                                                 \n",
      " reshape_6 (Reshape)         (None, 28, 28, 1)         0         \n",
      "                                                                 \n",
      "=================================================================\n",
      "Total params: 1,493,520\n",
      "Trainable params: 1,489,936\n",
      "Non-trainable params: 3,584\n",
      "_________________________________________________________________\n"
     ]
    }
   ],
   "source": [
    "generator=build_generator()"
   ]
  },
  {
   "cell_type": "code",
   "execution_count": 33,
   "id": "29a6ae51",
   "metadata": {},
   "outputs": [
    {
     "name": "stdout",
     "output_type": "stream",
     "text": [
      "Model: \"model_2\"\n",
      "_________________________________________________________________\n",
      " Layer (type)                Output Shape              Param #   \n",
      "=================================================================\n",
      " input_14 (InputLayer)       [(None, 100)]             0         \n",
      "                                                                 \n",
      " sequential_10 (Sequential)  (None, 28, 28, 1)         1493520   \n",
      "                                                                 \n",
      " sequential_9 (Sequential)   (None, 1)                 533505    \n",
      "                                                                 \n",
      "=================================================================\n",
      "Total params: 2,027,025\n",
      "Trainable params: 1,489,936\n",
      "Non-trainable params: 537,089\n",
      "_________________________________________________________________\n"
     ]
    }
   ],
   "source": [
    "# Noise for generator\n",
    "z_dim = 100\n",
    "z = Input(shape=(z_dim,))\n",
    "img = generator(z)\n",
    "\n",
    "# Fix the discriminator\n",
    "discriminator.trainable = False\n",
    "\n",
    "# Get discriminator output\n",
    "validity = discriminator(img)\n",
    "\n",
    "# Stack discriminator on top of generator\n",
    "gan_model = Model(z, validity)\n",
    "gan_model.compile(loss='binary_crossentropy', optimizer=Adam(0.0001, 0.5))\n",
    "gan_model.summary()\n"
   ]
  },
  {
   "cell_type": "code",
   "execution_count": 49,
   "id": "32e74ee1",
   "metadata": {},
   "outputs": [],
   "source": [
    "def sample_images(epoch, generator, z_dim=100,\n",
    "                  save_output=True,\n",
    "                  output_dir=\"D:\\Projects\\Completed\\ML Project\\ClothsGenerator\\output_dir\"):\n",
    "\n",
    "\n",
    "    r, c = 5, 5\n",
    "    noise = np.random.normal(0, 1, (r * c, z_dim))\n",
    "    gen_imgs = generator.predict(noise)\n",
    "\n",
    "    # Rescale images 0 - 1\n",
    "    gen_imgs = 0.5 * gen_imgs + 0.5\n",
    "\n",
    "    # get output shape\n",
    "    output_shape = len(generator.output_shape)\n",
    "\n",
    "    fig, axs = plt.subplots(r, c)\n",
    "    cnt = 0\n",
    "    for i in range(r):\n",
    "        for j in range(c):\n",
    "            if output_shape == 3:\n",
    "                axs[i, j].imshow(gen_imgs[cnt, :, :], cmap='gray')\n",
    "            else:\n",
    "                axs[i, j].imshow(gen_imgs[cnt, :, :, 0], cmap='gray')\n",
    "            # if model_type == 'cgan':\n",
    "            #     axs[i, j].set_title(\"Label: %d\" % sampled_labels[cnt])\n",
    "            axs[i, j].axis('off')\n",
    "            cnt += 1\n",
    "    plt.show()\n",
    "    if save_output:\n",
    "        fig.savefig(\"{}/{}.png\".format(output_dir, epoch))\n",
    "    plt.close()"
   ]
  },
  {
   "cell_type": "code",
   "execution_count": null,
   "id": "22f347e2",
   "metadata": {},
   "outputs": [],
   "source": [
    "train(generator,discriminator,gan_model,epochs=30000, batch_size=32, sample_interval=200)"
   ]
  }
 ],
 "metadata": {
  "kernelspec": {
   "display_name": "Python 3 (ipykernel)",
   "language": "python",
   "name": "python3"
  },
  "language_info": {
   "codemirror_mode": {
    "name": "ipython",
    "version": 3
   },
   "file_extension": ".py",
   "mimetype": "text/x-python",
   "name": "python",
   "nbconvert_exporter": "python",
   "pygments_lexer": "ipython3",
   "version": "3.10.11"
  }
 },
 "nbformat": 4,
 "nbformat_minor": 5
}
